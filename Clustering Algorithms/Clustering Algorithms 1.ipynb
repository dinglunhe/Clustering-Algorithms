{
 "cells": [
  {
   "cell_type": "markdown",
   "metadata": {},
   "source": [
    "Import data processing package"
   ]
  },
  {
   "cell_type": "code",
   "execution_count": 1,
   "metadata": {},
   "outputs": [],
   "source": [
    "import pandas as pd\n",
    "import numpy as np\n",
    "from sklearn import metrics\n",
    "from sklearn.metrics.cluster.supervised import contingency_matrix\n",
    "from sklearn.metrics.cluster import adjusted_rand_score"
   ]
  },
  {
   "cell_type": "markdown",
   "metadata": {},
   "source": [
    "Import data"
   ]
  },
  {
   "cell_type": "code",
   "execution_count": 2,
   "metadata": {},
   "outputs": [],
   "source": [
    "def loadDataSet(fileName): \n",
    "    data = [] \n",
    "    with open(fileName) as f:\n",
    "        for line in f.readlines():\n",
    "            line = line.split('\\t')\n",
    "            data.append(line)\n",
    "        data = np.array(data).astype(np.float32)\n",
    "    return data"
   ]
  },
  {
   "cell_type": "code",
   "execution_count": 3,
   "metadata": {},
   "outputs": [],
   "source": [
    "cho_data = loadDataSet('C:/Users/dingl/Desktop/Data Mining/Project1/cho.txt')\n",
    "iyer_data = loadDataSet('C:/Users/dingl/Desktop/Data Mining/Project1/iyer.txt')"
   ]
  },
  {
   "cell_type": "markdown",
   "metadata": {},
   "source": [
    "View data"
   ]
  },
  {
   "cell_type": "code",
   "execution_count": 4,
   "metadata": {},
   "outputs": [
    {
     "name": "stdout",
     "output_type": "stream",
     "text": [
      "[[ 1.00e+00  1.00e+00 -6.90e-01 ... -4.00e-02  1.90e-01  8.20e-01]\n",
      " [ 2.00e+00  1.00e+00 -2.10e-01 ... -1.23e+00 -3.25e-01  0.00e+00]\n",
      " [ 3.00e+00  1.00e+00 -3.00e-01 ... -1.20e-01 -1.60e-01  6.70e-01]\n",
      " ...\n",
      " [ 3.84e+02  5.00e+00 -3.12e+00 ...  1.48e+00  2.06e+00  2.36e+00]\n",
      " [ 3.85e+02  5.00e+00 -7.90e-01 ...  4.90e-01  8.00e-02  1.50e-01]\n",
      " [ 3.86e+02  5.00e+00 -1.16e+00 ...  4.93e-01  1.27e+00  8.70e-01]]\n",
      " \n",
      "[[ 1.00e+00 -1.00e+00  1.00e+00 ...  5.00e-01  6.60e-01  5.20e-01]\n",
      " [ 2.00e+00  1.00e+00  1.00e+00 ...  9.00e-01  7.30e-01  7.50e-01]\n",
      " [ 3.00e+00  1.00e+00  1.00e+00 ...  7.10e-01  5.70e-01  4.60e-01]\n",
      " ...\n",
      " [ 5.15e+02  1.00e+01  1.00e+00 ...  2.15e+00  2.05e+00  2.25e+00]\n",
      " [ 5.16e+02  1.00e+01  1.00e+00 ...  1.97e+00  2.21e+00  1.79e+00]\n",
      " [ 5.17e+02  1.00e+01  1.00e+00 ...  1.86e+00  1.57e+00  1.26e+00]]\n"
     ]
    }
   ],
   "source": [
    "print(cho_data)\n",
    "print(\" \")\n",
    "print(iyer_data)"
   ]
  },
  {
   "cell_type": "markdown",
   "metadata": {},
   "source": [
    "View labels for data"
   ]
  },
  {
   "cell_type": "code",
   "execution_count": 5,
   "metadata": {},
   "outputs": [],
   "source": [
    "cho_y = cho_data[:,1]\n",
    "iyer_y = iyer_data[:,1]"
   ]
  },
  {
   "cell_type": "code",
   "execution_count": 6,
   "metadata": {},
   "outputs": [],
   "source": [
    "cho_y = np.array(cho_y.reshape((-1,))).astype(np.int32)\n",
    "iyer_y = np.array(iyer_y.reshape((-1,))).astype(np.int32)"
   ]
  },
  {
   "cell_type": "code",
   "execution_count": 7,
   "metadata": {},
   "outputs": [
    {
     "name": "stdout",
     "output_type": "stream",
     "text": [
      "[1 1 1 1 1 1 1 1 1 1 1 1 1 1 1 1 1 1 1 1 1 1 1 1 1 1 1 1 1 1 1 1 1 1 1 1 1\n",
      " 1 1 1 1 1 1 1 1 1 1 1 1 1 1 1 1 1 1 1 1 1 1 1 1 1 1 1 1 1 1 2 2 2 2 2 2 2\n",
      " 2 2 2 2 2 2 2 2 2 2 2 2 2 2 2 2 2 2 2 2 2 2 2 2 2 2 2 2 2 2 2 2 2 2 2 2 2\n",
      " 2 2 2 2 2 2 2 2 2 2 2 2 2 2 2 2 2 2 2 2 2 2 2 2 2 2 2 2 2 2 2 2 2 2 2 2 2\n",
      " 2 2 2 2 2 2 2 2 2 2 2 2 2 2 2 2 2 2 2 2 2 2 2 2 2 2 2 2 2 2 2 2 2 2 2 2 2\n",
      " 2 2 2 2 2 2 2 2 2 2 2 2 2 2 2 2 2 3 3 3 3 3 3 3 3 3 3 3 3 3 3 3 3 3 3 3 3\n",
      " 3 3 3 3 3 3 3 3 3 3 3 3 3 3 3 3 3 3 3 3 3 3 3 3 3 3 3 3 3 3 3 3 3 3 3 3 3\n",
      " 3 3 3 3 3 3 3 3 3 3 3 3 3 3 3 3 3 3 4 4 4 4 4 4 4 4 4 4 4 4 4 4 4 4 4 4 4\n",
      " 4 4 4 4 4 4 4 4 4 4 4 4 4 4 4 4 4 4 4 4 4 4 4 4 4 4 4 4 4 4 4 4 4 4 4 5 5\n",
      " 5 5 5 5 5 5 5 5 5 5 5 5 5 5 5 5 5 5 5 5 5 5 5 5 5 5 5 5 5 5 5 5 5 5 5 5 5\n",
      " 5 5 5 5 5 5 5 5 5 5 5 5 5 5 5 5]\n",
      " \n",
      "[-1  1  1  1  1  1  1  1  1  1  1  1  1  1  1  1  1  1  1  1  1  1  1  1\n",
      "  1  1  1  1  1  1  1  1  1  1  1  1  1  1  1  1  1  1  1  1  1  1  1  1\n",
      "  1  1  1  1  1  1  1  1  1  1  1  1  1  1  1  1  1  1  1  1  1  1  1  1\n",
      "  1  1  1  1  1  1  1  1  1  1  1  1  1  1  1  1  1  1  1  1  1  1  1  1\n",
      "  1  1  1  1  1  2  2  2  2  2  2  2  2  2  2  2  2  2  2  2  2  2  2  2\n",
      "  2  2  2  2  2  2  2  2  2  2  2  2  2  2  2  2  2  2  2  2  2  2  2  2\n",
      "  2  2  2  2  2  2  2  2  2  2  2  2  2  2  2  2  2  2  2  2  2  2  2  2\n",
      "  2  2  2  2  2  2  2  2  2  2  2  2  2  2  2  2  2  2  2  2  2  2  2  2\n",
      "  2  2  2  2  2  2  2  2  2  2  2  2  2  2  2  2  2  2  2  2  2  2  2  2\n",
      "  2  2  2  2  2  2  2  2  2  2  2  2  2  2  2  2  2  2  2  2  2  2  2  2\n",
      "  2  2  2  2  2  2 -1 -1 -1 -1 -1 -1 -1 -1 -1 -1 -1 -1 -1 -1 -1 -1  3  3\n",
      "  3  3  3  3  3  3  3  3  3  3  3  3  3  3  3  3  3  3  3  3  3  3  3  3\n",
      "  3  3  3  3  3  3  3  3 -1 -1 -1 -1  4  4  4  4  4  4  4  4  4  4  4  4\n",
      "  4  4  4  4  4  4  4  4  4  4  4  4  4  4  4  4  4  4  4  4  4  4  4  4\n",
      "  4  4  4  4  4  4  4  5  5  5  5  5  5  5 -1 -1 -1 -1 -1  6  6  6  6  6\n",
      "  6  6  6  6  6  6  6  6  6  6  6  6  6  6  6  6  6  6  6  6  6  6  6  6\n",
      "  6  6  6  6  6 -1 -1 -1 -1  7  7  7  7  7  7  7  7  7  7  7  7  7  7 -1\n",
      " -1 -1  8  8  8  8  8  8  8  8  8  8  8  8  8  8  8  8  8  8  8  8  8  8\n",
      "  8  8  8  8  8  8  8  8  8  8  8  8  8  8  8  8  8  8  8  8  8  8  8  8\n",
      "  8  8  8  8  8  8  8  8  8  8  8  8  8  8  8  8  8  9  9  9  9  9  9  9\n",
      "  9  9  9  9  9  9  9  9  9  9  9  9 10 10 10 10 10 10 10 10 10 10 10 10\n",
      " 10 10 10 10 10 10 10 10 10 10 10 10 10]\n"
     ]
    }
   ],
   "source": [
    "print(cho_y)\n",
    "print(\" \")\n",
    "print(iyer_y)"
   ]
  },
  {
   "cell_type": "markdown",
   "metadata": {},
   "source": [
    "Remove invalid data from dataset"
   ]
  },
  {
   "cell_type": "code",
   "execution_count": 8,
   "metadata": {},
   "outputs": [],
   "source": [
    "cho_data_x = np.delete(cho_data, [0,1], axis=1)\n",
    "iyer_data_x = np.delete(iyer_data, [0,1,2], axis=1)"
   ]
  },
  {
   "cell_type": "code",
   "execution_count": 9,
   "metadata": {},
   "outputs": [
    {
     "name": "stdout",
     "output_type": "stream",
     "text": [
      "[[-0.69  -0.96  -1.16  ... -0.04   0.19   0.82 ]\n",
      " [-0.21   0.19   0.86  ... -1.23  -0.325  0.   ]\n",
      " [-0.3   -0.56  -0.29  ... -0.12  -0.16   0.67 ]\n",
      " ...\n",
      " [-3.12  -4.12  -3.54  ...  1.48   2.06   2.36 ]\n",
      " [-0.79  -0.56  -0.79  ...  0.49   0.08   0.15 ]\n",
      " [-1.16  -1.39  -0.96  ...  0.493  1.27   0.87 ]]\n",
      " \n",
      "[[0.72 0.1  0.57 ... 0.5  0.66 0.52]\n",
      " [1.58 1.05 1.15 ... 0.9  0.73 0.75]\n",
      " [1.1  0.97 1.   ... 0.71 0.57 0.46]\n",
      " ...\n",
      " [2.09 3.37 5.52 ... 2.15 2.05 2.25]\n",
      " [1.52 4.39 7.03 ... 1.97 2.21 1.79]\n",
      " [2.25 4.67 7.94 ... 1.86 1.57 1.26]]\n"
     ]
    }
   ],
   "source": [
    "print(cho_data_x)\n",
    "print(\" \")\n",
    "print(iyer_data_x)"
   ]
  },
  {
   "cell_type": "code",
   "execution_count": 10,
   "metadata": {},
   "outputs": [
    {
     "name": "stdout",
     "output_type": "stream",
     "text": [
      "(386, 16)\n",
      "(517, 11)\n"
     ]
    }
   ],
   "source": [
    "print(cho_data_x.shape)\n",
    "print(iyer_data_x.shape)"
   ]
  },
  {
   "cell_type": "markdown",
   "metadata": {},
   "source": [
    "Define Euclidean distance function"
   ]
  },
  {
   "cell_type": "code",
   "execution_count": 11,
   "metadata": {},
   "outputs": [],
   "source": [
    "def dist(A,B):\n",
    "    return np.sqrt(np.sum(np.power((A-B),2)))"
   ]
  },
  {
   "cell_type": "markdown",
   "metadata": {},
   "source": [
    "Define randomized center point function"
   ]
  },
  {
   "cell_type": "code",
   "execution_count": 12,
   "metadata": {},
   "outputs": [],
   "source": [
    "def randCenter(dataset,k):\n",
    "    m = np.shape(dataset)[1]\n",
    "    center = np.mat(np.ones((k,m)))\n",
    "    for i in range(m):\n",
    "        centmin = min(dataset[:,i])\n",
    "        centmax = max(dataset[:,i])\n",
    "        center[:,i] = centmin + (centmax - centmin) * np.random.rand(k,1)\n",
    "    return center"
   ]
  },
  {
   "cell_type": "code",
   "execution_count": 13,
   "metadata": {},
   "outputs": [
    {
     "data": {
      "text/plain": [
       "matrix([[ 0.17556383, -0.21197994, -2.54446146,  1.56340979,  0.50752404,\n",
       "          0.9209441 ,  0.29054087,  1.48713705,  0.59190819, -0.97991369,\n",
       "          0.975531  ,  0.58592445,  1.12883882,  0.63954113,  0.93246233,\n",
       "         -0.28714325],\n",
       "        [ 0.77078478, -2.01764499, -1.64059118,  0.89820146, -0.81801197,\n",
       "          0.73740336,  2.05730965,  2.12607544,  1.46215358,  0.12863871,\n",
       "         -0.97463498, -0.96355769, -0.13724649, -0.30461523,  1.60810628,\n",
       "         -0.35192309],\n",
       "        [-0.31441952, -1.12550418,  0.45879253,  1.46285584, -0.17044371,\n",
       "         -2.01282723, -0.33705855, -0.74467151, -1.42781525,  1.2592541 ,\n",
       "          1.19389503, -0.70385746,  0.78850251, -1.20230687,  1.06863452,\n",
       "         -0.46413066],\n",
       "        [-1.5581127 ,  1.06174448, -1.12752424,  1.41059039, -0.81788317,\n",
       "         -0.92648822,  0.94596954, -1.37803095,  1.67327795, -0.16217815,\n",
       "         -0.18852038,  1.00051445,  0.62063052,  0.24052569,  0.22497743,\n",
       "         -0.39274645],\n",
       "        [-1.19633761, -3.96560694, -0.34552682, -1.66341862, -0.9399781 ,\n",
       "         -2.15041495,  2.19565738,  2.14414806, -0.83056647,  1.9989496 ,\n",
       "          0.45921632,  0.02141415, -1.3241955 ,  1.24429939,  1.08954106,\n",
       "          0.14979511]])"
      ]
     },
     "execution_count": 13,
     "metadata": {},
     "output_type": "execute_result"
    }
   ],
   "source": [
    "randCenter(cho_data_x, 5)"
   ]
  },
  {
   "cell_type": "markdown",
   "metadata": {},
   "source": [
    "Define K-means function"
   ]
  },
  {
   "cell_type": "code",
   "execution_count": 14,
   "metadata": {},
   "outputs": [],
   "source": [
    "def kMeans(dataset,k):\n",
    "    m = np.shape(dataset)[0]\n",
    "    clusterAssment = np.mat(np.zeros((m,1)))\n",
    "    centroids = randCenter(dataset,k)\n",
    "    clusterChanged = True\n",
    "    while clusterChanged:\n",
    "        clusterChanged = False\n",
    "        for i in range(m):\n",
    "            minDist = np.inf\n",
    "            minIndex = -1\n",
    "            for j in range(k):\n",
    "                distJI = dist(dataset[i],centroids[j])\n",
    "                if distJI < minDist:\n",
    "                    minDist = distJI\n",
    "                    minIndex = j\n",
    "            if clusterAssment[i] != minIndex:\n",
    "                clusterChanged = True\n",
    "            clusterAssment[i] = minIndex\n",
    "        for center in range(k):\n",
    "            # print(np.nonzero(clusterAssment.A == center))\n",
    "            ptsIndex = np.nonzero(clusterAssment.A == center)[0]\n",
    "            ptsInClust = dataset[ptsIndex]\n",
    "            centroids[center,:] = np.mean(ptsInClust,axis = 0)\n",
    "    \n",
    "    # Calculate the internal index SSE\n",
    "    SSE = 0\n",
    "    for center in range(k):\n",
    "        ptsIndex = np.nonzero(clusterAssment.A == center)[0]\n",
    "        ptsInClust = dataset[ptsIndex]\n",
    "        for pt in ptsInClust:\n",
    "            dist2 = dist(pt, centroids[center]) ** 2\n",
    "            SSE = SSE + dist2\n",
    "    # print(SSE)\n",
    "    return clusterAssment.astype(np.int32).reshape((-1,)), SSE"
   ]
  },
  {
   "cell_type": "markdown",
   "metadata": {},
   "source": [
    "View the minimum and maximum values of each column of data"
   ]
  },
  {
   "cell_type": "code",
   "execution_count": 15,
   "metadata": {},
   "outputs": [
    {
     "data": {
      "text/plain": [
       "array([-3.12, -4.12, -3.54, -1.88, -1.89, -2.56, -1.82, -1.86, -1.81,\n",
       "       -2.19, -2.11, -1.29, -1.5 , -1.63, -1.68, -1.52], dtype=float32)"
      ]
     },
     "execution_count": 15,
     "metadata": {},
     "output_type": "execute_result"
    }
   ],
   "source": [
    "cho_data_x.min(axis=0)"
   ]
  },
  {
   "cell_type": "code",
   "execution_count": 16,
   "metadata": {},
   "outputs": [
    {
     "data": {
      "text/plain": [
       "array([1.95, 1.43, 2.04, 1.61, 1.58, 1.48, 2.45, 2.77, 1.81, 2.16, 1.75,\n",
       "       1.34, 1.14, 1.48, 2.06, 2.36], dtype=float32)"
      ]
     },
     "execution_count": 16,
     "metadata": {},
     "output_type": "execute_result"
    }
   ],
   "source": [
    "cho_data_x.max(axis=0)"
   ]
  },
  {
   "cell_type": "markdown",
   "metadata": {},
   "source": [
    "Define data normalization function"
   ]
  },
  {
   "cell_type": "code",
   "execution_count": 17,
   "metadata": {},
   "outputs": [],
   "source": [
    "def normalization(data):\n",
    "    minVals = data.min(axis=0)\n",
    "    maxVals = data.max(axis=0)\n",
    "    ranges = maxVals - minVals\n",
    "    normData = np.zeros(np.shape(data))\n",
    "    m = data.shape[0]\n",
    "    normData = data - np.tile(minVals, (m, 1))\n",
    "    normData = normData/np.tile(ranges, (m, 1))\n",
    "    return normData"
   ]
  },
  {
   "cell_type": "code",
   "execution_count": 18,
   "metadata": {},
   "outputs": [],
   "source": [
    "cho_data_norm = normalization(cho_data_x)\n",
    "iyer_data_norm = normalization(iyer_data_x)"
   ]
  },
  {
   "cell_type": "markdown",
   "metadata": {},
   "source": [
    "View standardized data"
   ]
  },
  {
   "cell_type": "code",
   "execution_count": 19,
   "metadata": {
    "scrolled": true
   },
   "outputs": [
    {
     "name": "stdout",
     "output_type": "stream",
     "text": [
      "[[0.47928995 0.5693694  0.42652333 ... 0.511254   0.5        0.6030928 ]\n",
      " [0.5739645  0.7765766  0.78853047 ... 0.12861735 0.3622995  0.39175257]\n",
      " [0.556213   0.64144146 0.5824373  ... 0.48553053 0.40641713 0.56443304]\n",
      " ...\n",
      " [0.         0.         0.         ... 1.         1.         1.        ]\n",
      " [0.4595661  0.64144146 0.49283156 ... 0.681672   0.47058827 0.43041238]\n",
      " [0.38658777 0.49189192 0.4623656  ... 0.6826366  0.7887701  0.6159794 ]]\n",
      " \n",
      "[[0.13486843 0.         0.02021019 ... 0.02259136 0.03891337 0.03669724]\n",
      " [0.41776314 0.1181592  0.06709781 ... 0.04916944 0.04405287 0.05779816]\n",
      " [0.25986844 0.10820895 0.05497171 ... 0.03654485 0.03230543 0.03119266]\n",
      " ...\n",
      " [0.5855263  0.4067164  0.42037186 ... 0.13222592 0.14096916 0.19541284]\n",
      " [0.39802635 0.5335821  0.5424414  ... 0.12026578 0.15271659 0.153211  ]\n",
      " [0.6381579  0.568408   0.61600643 ... 0.11295681 0.10572688 0.10458715]]\n"
     ]
    }
   ],
   "source": [
    "print(cho_data_norm)\n",
    "print(\" \")\n",
    "print(iyer_data_norm)"
   ]
  },
  {
   "cell_type": "markdown",
   "metadata": {},
   "source": [
    "Perform 100 K-means clustering for Cho dataset, and select the one with the lowest SSE as the final result"
   ]
  },
  {
   "cell_type": "code",
   "execution_count": 20,
   "metadata": {
    "scrolled": true
   },
   "outputs": [
    {
     "name": "stdout",
     "output_type": "stream",
     "text": [
      "61.12483157221722\n",
      "64.66564259344072\n",
      "61.05818900159613\n"
     ]
    },
    {
     "name": "stderr",
     "output_type": "stream",
     "text": [
      "E:\\Anaconda3\\lib\\site-packages\\numpy\\core\\fromnumeric.py:3257: RuntimeWarning: Mean of empty slice.\n",
      "  out=out, **kwargs)\n",
      "E:\\Anaconda3\\lib\\site-packages\\numpy\\core\\_methods.py:154: RuntimeWarning: invalid value encountered in true_divide\n",
      "  ret, rcount, out=ret, casting='unsafe', subok=False)\n"
     ]
    },
    {
     "name": "stdout",
     "output_type": "stream",
     "text": [
      "65.5693620937913\n",
      "65.5723642025703\n",
      "61.07515115615873\n",
      "61.00426936952586\n",
      "65.5693620937913\n",
      "61.03537540157241\n",
      "61.03963072323042\n",
      "61.062426904655936\n",
      "65.61265236545785\n",
      "61.04472151416553\n",
      "61.06242690465596\n",
      "61.0016683852234\n",
      "65.56936209379134\n",
      "61.01579707416466\n",
      "61.01468700250781\n",
      "62.964503061568706\n",
      "65.56936209379131\n",
      "65.56936209379131\n",
      "60.97874166956927\n",
      "61.02344750689517\n",
      "61.05606962814454\n",
      "65.56936209379134\n",
      "61.05818900159613\n",
      "61.10499304343422\n",
      "65.62567338691977\n",
      "61.08009644728549\n",
      "61.04613586539235\n",
      "65.56936209379134\n",
      "65.56936209379137\n",
      "61.09696570373582\n",
      "61.124831572217275\n",
      "65.56936209379134\n",
      "65.57236420257027\n",
      "65.56936209379133\n",
      "63.35098162106283\n",
      "61.01966757950906\n",
      "76.50215768351873\n",
      "60.967744723762145\n",
      "76.50215768351866\n",
      "65.56936209379134\n",
      "61.01211617223232\n",
      "64.88725666448525\n",
      "61.04485772828964\n",
      "61.02597060956547\n",
      "65.5693620937913\n",
      "61.01815211805701\n",
      "65.56936209379137\n",
      "76.55519249044666\n",
      "61.06228647464156\n",
      "65.56936209379134\n",
      "61.02121866148916\n",
      "61.00904369398085\n",
      "61.09596373763308\n",
      "61.01468700250779\n",
      "91.79550684911716\n",
      "61.05581529760491\n",
      "65.56936209379136\n",
      "76.50368297896834\n",
      "61.07011168879027\n",
      "61.09855915485771\n",
      "76.50215768351879\n",
      "65.56936209379136\n",
      "61.07198573393442\n",
      "60.98683813725059\n",
      "65.56936209379131\n",
      "65.56936209379136\n",
      "61.02344750689524\n",
      "65.56936209379131\n",
      "61.01468700250784\n",
      "60.982638979446634\n",
      "62.89277317184403\n",
      "61.07198573393433\n",
      "65.56936209379134\n",
      "61.12483157221729\n",
      "65.56936209379131\n",
      "63.350981621062765\n",
      "63.316646517235064\n",
      "76.50098289215785\n",
      "74.18788061790559\n",
      "61.08980683905808\n",
      "61.059753033934385\n",
      "61.084783021559005\n",
      "65.56936209379133\n",
      "65.56936209379136\n",
      "61.09596373763311\n",
      "61.04995427032467\n",
      "76.50215768351866\n",
      "76.55769519809826\n",
      "61.12483157221724\n",
      "61.04061354953349\n",
      "60.9737053043856\n",
      "65.57236420257028\n",
      "61.14726020800608\n",
      "61.063825875754006\n",
      "65.56936209379131\n",
      "61.10744893248192\n",
      "61.133321473176515\n"
     ]
    }
   ],
   "source": [
    "cho_bestkmCluster = []\n",
    "cho_bestkmSSE = np.inf\n",
    "for i in range(100):\n",
    "    cho_kmCluster, cho_kmSSE = kMeans(cho_data_norm, 5)\n",
    "    print(cho_kmSSE)\n",
    "    if cho_kmSSE < cho_bestkmSSE:\n",
    "        cho_bestkmSSE = cho_kmSSE\n",
    "        cho_bestkmCluster = cho_kmCluster"
   ]
  },
  {
   "cell_type": "markdown",
   "metadata": {},
   "source": [
    "View the final results of K-means clustering for Cho dataset"
   ]
  },
  {
   "cell_type": "code",
   "execution_count": 21,
   "metadata": {},
   "outputs": [
    {
     "name": "stdout",
     "output_type": "stream",
     "text": [
      "[[3 2 3 0 0 0 0 0 0 0 0 3 3 3 3 3 0 3 0 3 3 3 3 3 2 0 3 2 1 4 3 2 3 3 3 0\n",
      "  3 3 3 3 3 4 0 0 0 3 3 3 3 3 3 3 0 3 0 0 3 3 0 3 3 0 3 2 3 0 0 2 2 2 2 2\n",
      "  2 2 2 2 2 2 2 2 2 3 2 2 2 2 2 2 2 3 2 2 2 2 2 2 2 2 2 2 2 2 2 2 2 2 2 2\n",
      "  2 2 2 0 2 2 2 2 2 2 2 2 2 2 2 2 1 2 3 1 3 0 2 2 3 3 2 2 1 2 2 2 2 2 2 2\n",
      "  2 3 2 2 2 2 2 2 2 2 2 2 2 2 2 2 2 2 2 2 2 2 2 2 2 2 2 2 3 2 2 2 2 3 2 3\n",
      "  3 2 2 2 2 2 3 3 0 3 3 2 2 2 2 2 2 2 3 2 2 2 1 1 1 2 1 1 1 1 1 1 2 1 2 1\n",
      "  1 1 2 1 3 1 2 2 2 1 1 2 1 2 2 2 2 2 1 1 1 3 1 2 0 1 1 2 2 2 2 1 1 1 1 2\n",
      "  2 1 1 1 1 1 1 1 1 1 1 2 2 1 2 1 2 1 1 2 2 2 2 1 2 1 1 4 1 1 4 4 1 1 1 1\n",
      "  1 1 4 1 0 0 1 1 0 1 1 1 1 1 1 1 1 1 1 1 1 1 1 1 4 1 1 1 1 1 4 4 1 1 1 0\n",
      "  1 1 1 1 1 1 1 0 4 4 4 4 0 4 4 4 4 1 4 4 4 4 0 4 4 4 0 0 4 0 0 0 0 0 0 0\n",
      "  1 0 0 0 0 0 4 4 0 0 0 4 4 0 4 4 4 4 0 4 4 0 0 4 0 4]]\n",
      " \n",
      "60.967744723762145\n"
     ]
    }
   ],
   "source": [
    "print(cho_bestkmCluster)\n",
    "print(\" \")\n",
    "print(cho_bestkmSSE)"
   ]
  },
  {
   "cell_type": "markdown",
   "metadata": {},
   "source": [
    "View Confusion Matrix"
   ]
  },
  {
   "cell_type": "code",
   "execution_count": 22,
   "metadata": {},
   "outputs": [
    {
     "name": "stdout",
     "output_type": "stream",
     "text": [
      "  (0, 0)\t22\n",
      "  (0, 1)\t1\n",
      "  (0, 2)\t5\n",
      "  (0, 3)\t37\n",
      "  (0, 4)\t2\n",
      "  (1, 0)\t3\n",
      "  (1, 1)\t3\n",
      "  (1, 2)\t113\n",
      "  (1, 3)\t16\n",
      "  (2, 0)\t1\n",
      "  (2, 1)\t43\n",
      "  (2, 2)\t29\n",
      "  (2, 3)\t2\n",
      "  (3, 0)\t4\n",
      "  (3, 1)\t43\n",
      "  (3, 4)\t7\n",
      "  (4, 0)\t25\n",
      "  (4, 1)\t2\n",
      "  (4, 4)\t28\n"
     ]
    }
   ],
   "source": [
    "cho_labels_true = np.array(cho_y)\n",
    "cho_kmCluster_labels_pred = np.array(cho_bestkmCluster).reshape((-1,))\n",
    "cho_kmCluster_contingency = contingency_matrix(cho_labels_true, cho_kmCluster_labels_pred, sparse=True)\n",
    "print(cho_kmCluster_contingency)"
   ]
  },
  {
   "cell_type": "markdown",
   "metadata": {},
   "source": [
    "Calculate external index: Adjusted Rand Score"
   ]
  },
  {
   "cell_type": "code",
   "execution_count": 23,
   "metadata": {},
   "outputs": [
    {
     "data": {
      "text/plain": [
       "0.4475000274739754"
      ]
     },
     "execution_count": 23,
     "metadata": {},
     "output_type": "execute_result"
    }
   ],
   "source": [
    "adjusted_rand_score(cho_labels_true, cho_kmCluster_labels_pred)"
   ]
  },
  {
   "cell_type": "markdown",
   "metadata": {},
   "source": [
    "View sklearn's K-means clustering results of Cho dataset"
   ]
  },
  {
   "cell_type": "code",
   "execution_count": 24,
   "metadata": {},
   "outputs": [
    {
     "data": {
      "text/plain": [
       "array([0, 2, 0, 1, 1, 1, 1, 1, 1, 1, 1, 0, 0, 0, 0, 0, 1, 0, 1, 0, 0, 1,\n",
       "       0, 0, 2, 1, 0, 2, 1, 4, 0, 2, 0, 0, 0, 1, 0, 1, 0, 0, 1, 4, 1, 1,\n",
       "       1, 0, 0, 0, 0, 0, 0, 0, 1, 0, 1, 1, 0, 0, 1, 0, 0, 1, 0, 2, 0, 1,\n",
       "       1, 2, 2, 2, 2, 2, 2, 2, 2, 2, 2, 2, 2, 2, 2, 0, 2, 2, 2, 2, 2, 2,\n",
       "       2, 0, 2, 2, 2, 2, 2, 2, 2, 2, 2, 2, 2, 2, 2, 2, 2, 2, 2, 2, 2, 2,\n",
       "       2, 1, 2, 2, 2, 2, 2, 2, 2, 2, 2, 2, 2, 2, 3, 2, 0, 3, 0, 1, 2, 2,\n",
       "       0, 0, 2, 2, 3, 2, 2, 2, 2, 2, 2, 2, 2, 1, 2, 2, 2, 2, 2, 2, 2, 2,\n",
       "       2, 2, 2, 2, 2, 2, 2, 2, 2, 2, 2, 2, 2, 2, 2, 2, 2, 2, 0, 2, 2, 2,\n",
       "       2, 0, 2, 0, 0, 2, 2, 2, 2, 2, 0, 0, 1, 0, 1, 2, 2, 2, 2, 2, 2, 2,\n",
       "       0, 2, 2, 2, 3, 3, 3, 2, 3, 3, 3, 3, 3, 3, 2, 3, 2, 3, 3, 3, 2, 3,\n",
       "       0, 3, 2, 2, 2, 3, 3, 2, 3, 2, 2, 2, 2, 2, 3, 3, 3, 0, 3, 2, 1, 3,\n",
       "       3, 2, 2, 2, 2, 3, 3, 3, 3, 2, 2, 3, 3, 3, 3, 3, 3, 3, 3, 3, 3, 2,\n",
       "       2, 3, 2, 3, 2, 3, 3, 2, 2, 2, 2, 3, 2, 3, 3, 4, 3, 3, 4, 4, 3, 3,\n",
       "       3, 3, 3, 1, 4, 3, 1, 1, 3, 3, 1, 3, 1, 3, 3, 3, 3, 3, 3, 3, 3, 3,\n",
       "       3, 3, 3, 3, 4, 3, 3, 3, 3, 3, 4, 4, 3, 3, 3, 1, 3, 3, 3, 3, 3, 3,\n",
       "       3, 1, 4, 4, 4, 4, 4, 4, 4, 4, 4, 3, 4, 4, 4, 4, 1, 4, 4, 4, 1, 1,\n",
       "       4, 1, 1, 1, 4, 1, 1, 1, 3, 1, 4, 1, 1, 1, 4, 4, 1, 1, 1, 4, 4, 4,\n",
       "       4, 4, 4, 4, 1, 4, 4, 1, 1, 4, 1, 4])"
      ]
     },
     "execution_count": 24,
     "metadata": {},
     "output_type": "execute_result"
    }
   ],
   "source": [
    "from sklearn.cluster import KMeans\n",
    "cho_kmClf = KMeans(n_clusters=5)\n",
    "cho_kmClf.fit(cho_data_norm)\n",
    "cho_kmClf.labels_"
   ]
  },
  {
   "cell_type": "markdown",
   "metadata": {},
   "source": [
    "View adjusted rand score for sklearn's K-means clustering results of Cho dataset"
   ]
  },
  {
   "cell_type": "code",
   "execution_count": 25,
   "metadata": {},
   "outputs": [
    {
     "data": {
      "text/plain": [
       "0.445531161593973"
      ]
     },
     "execution_count": 25,
     "metadata": {},
     "output_type": "execute_result"
    }
   ],
   "source": [
    "cho_kmClf_labels = cho_kmClf.labels_\n",
    "adjusted_rand_score(cho_labels_true, cho_kmClf_labels)"
   ]
  },
  {
   "cell_type": "markdown",
   "metadata": {},
   "source": [
    "Perform 100 K-means clustering for Iyer dataset, and select the one with the lowest SSE as the final result"
   ]
  },
  {
   "cell_type": "code",
   "execution_count": 26,
   "metadata": {
    "scrolled": true
   },
   "outputs": [
    {
     "name": "stderr",
     "output_type": "stream",
     "text": [
      "E:\\Anaconda3\\lib\\site-packages\\numpy\\core\\fromnumeric.py:3257: RuntimeWarning: Mean of empty slice.\n",
      "  out=out, **kwargs)\n",
      "E:\\Anaconda3\\lib\\site-packages\\numpy\\core\\_methods.py:154: RuntimeWarning: invalid value encountered in true_divide\n",
      "  ret, rcount, out=ret, casting='unsafe', subok=False)\n"
     ]
    },
    {
     "name": "stdout",
     "output_type": "stream",
     "text": [
      "26.89691552907993\n",
      "29.898273768809\n",
      "20.58762825640733\n",
      "20.827435845516636\n",
      "27.846781787270057\n",
      "20.068106718673324\n",
      "28.623805448326852\n",
      "19.094392284153482\n",
      "35.645275929837595\n",
      "20.994225234153415\n",
      "27.161712277595793\n",
      "17.310127371971927\n",
      "18.930867480479332\n",
      "19.841243189004693\n",
      "25.355367823533392\n",
      "17.76530129268801\n",
      "20.824356931564147\n",
      "35.645275929837595\n",
      "15.459221132540348\n",
      "27.137000863215775\n",
      "19.284405049872063\n",
      "26.436401766490462\n",
      "16.740083582239485\n",
      "18.930867480479336\n",
      "17.758322036379244\n",
      "16.54585964994289\n",
      "25.393174609731282\n",
      "27.84774309771296\n",
      "20.490918409953654\n",
      "19.678777292140715\n",
      "19.060333811514607\n",
      "18.046508044735724\n",
      "19.362235030750515\n",
      "17.86937805399424\n",
      "18.92272494414439\n",
      "20.38309293644627\n",
      "28.110801732191916\n",
      "18.32519264514476\n",
      "18.989298630457498\n",
      "18.984977212887028\n",
      "20.030699658443556\n",
      "23.497166204751906\n",
      "27.161712277595797\n",
      "19.36168255896204\n",
      "15.208764423889082\n",
      "17.873558903445787\n",
      "24.03626933900059\n",
      "20.83110809655178\n",
      "19.855501734733576\n",
      "21.892829519961317\n",
      "27.339730460475792\n",
      "19.366461873288454\n",
      "17.497785203169485\n",
      "26.673900999742294\n",
      "15.858915070451815\n",
      "16.959423059480596\n",
      "25.80226305205318\n",
      "19.495779872280814\n",
      "28.27105891936501\n",
      "15.862817372505045\n",
      "25.384102328320495\n",
      "27.161712277595797\n",
      "23.497166204751885\n",
      "25.713579990807794\n",
      "19.04244752654898\n",
      "29.898273768808988\n",
      "29.897312458366088\n",
      "15.858915070451793\n",
      "29.37439864761725\n",
      "18.448193584248738\n",
      "18.942471551604605\n",
      "16.505536438993627\n",
      "17.499823317768325\n",
      "18.930867480479314\n",
      "22.433981313279\n",
      "17.496505690299248\n",
      "20.030859856615063\n",
      "20.453835525820118\n",
      "20.824356931564164\n",
      "15.420358461293294\n",
      "20.45383552582012\n",
      "23.251325944826124\n",
      "30.95413024619558\n",
      "29.33259885443135\n",
      "16.26544530523353\n",
      "18.493796795409857\n",
      "15.934077321601912\n",
      "18.932968267464307\n",
      "23.497166204751913\n",
      "18.943694563057377\n",
      "25.393174609731293\n",
      "21.19971181605816\n",
      "31.579259785049125\n",
      "19.35918304879337\n",
      "31.806312912987476\n",
      "18.973454241646557\n",
      "20.82435693156414\n",
      "20.42611476652208\n",
      "19.050922563388035\n",
      "18.976533155599057\n"
     ]
    }
   ],
   "source": [
    "iyer_bestkmCluster = []\n",
    "iyer_bestkmSSE = np.inf\n",
    "for i in range(100):\n",
    "    iyer_kmCluster, iyer_kmSSE = kMeans(iyer_data_norm, 10)\n",
    "    print(iyer_kmSSE)\n",
    "    if iyer_kmSSE < iyer_bestkmSSE:\n",
    "        iyer_bestkmSSE = iyer_kmSSE\n",
    "        iyer_bestkmCluster = iyer_kmCluster"
   ]
  },
  {
   "cell_type": "markdown",
   "metadata": {},
   "source": [
    "View the final results of K-means clustering for Iyer dataset"
   ]
  },
  {
   "cell_type": "code",
   "execution_count": 27,
   "metadata": {},
   "outputs": [
    {
     "name": "stdout",
     "output_type": "stream",
     "text": [
      "[[3 3 3 3 3 3 3 3 3 3 3 3 3 3 3 3 3 3 3 3 3 3 3 3 3 3 3 3 3 3 3 3 3 3 3 3\n",
      "  3 3 3 3 3 3 3 3 3 3 3 3 3 3 3 3 3 3 3 3 3 3 3 3 3 3 3 3 3 3 3 3 3 3 3 3\n",
      "  3 3 3 3 3 3 3 3 3 3 3 3 3 3 3 3 3 3 3 3 3 3 3 3 3 3 3 3 3 8 3 3 3 3 3 3\n",
      "  3 3 3 3 3 3 3 3 3 3 3 3 3 3 3 3 3 3 3 3 3 3 3 3 3 3 3 3 3 3 3 3 3 3 3 3\n",
      "  3 3 3 3 3 3 3 3 3 3 3 3 3 3 3 3 3 3 3 3 3 3 3 3 3 3 3 3 3 3 3 3 3 3 3 3\n",
      "  3 3 3 3 3 3 3 3 3 3 3 3 3 3 3 3 3 3 3 3 3 3 3 3 3 3 3 3 3 3 3 3 3 3 3 3\n",
      "  3 3 3 3 3 3 3 3 3 3 3 3 3 3 3 3 3 3 3 3 3 3 3 3 3 3 3 3 3 3 3 3 3 3 3 3\n",
      "  3 3 3 3 3 3 3 3 3 3 5 5 3 3 3 3 3 3 3 3 3 3 3 3 3 3 3 3 3 3 3 3 3 3 3 3\n",
      "  3 3 3 3 3 3 3 3 3 3 3 3 8 9 3 3 3 3 3 8 8 3 9 8 8 8 3 3 3 3 3 8 8 8 8 9\n",
      "  9 9 9 9 9 8 9 9 9 9 9 9 8 9 9 9 9 9 9 6 1 1 3 1 1 1 8 3 3 3 3 8 8 3 3 8\n",
      "  8 8 2 8 3 3 3 8 8 3 8 3 8 8 8 3 3 8 8 8 8 8 3 8 8 8 8 8 8 8 8 8 8 9 8 9\n",
      "  8 9 9 8 8 8 8 8 8 8 8 9 8 8 8 8 8 8 8 8 3 8 8 8 8 8 8 8 8 8 8 8 8 8 8 8\n",
      "  8 8 8 8 8 8 8 8 8 0 8 8 9 9 9 8 8 8 8 8 8 8 8 8 8 8 8 8 8 8 8 8 9 8 8 8\n",
      "  8 0 0 0 0 3 8 8 8 3 3 8 8 8 3 8 8 8 8 8 8 8 2 0 8 6 3 3 3 6 3 3 6 3 6 1\n",
      "  6 6 6 6 6 6 6 6 6 1 1 1 1]]\n",
      " \n",
      "15.208764423889082\n"
     ]
    }
   ],
   "source": [
    "print(iyer_bestkmCluster)\n",
    "print(\" \")\n",
    "print(iyer_bestkmSSE)"
   ]
  },
  {
   "cell_type": "markdown",
   "metadata": {},
   "source": [
    "View Confusion Matrix"
   ]
  },
  {
   "cell_type": "code",
   "execution_count": 28,
   "metadata": {},
   "outputs": [
    {
     "name": "stdout",
     "output_type": "stream",
     "text": [
      "  (0, 3)\t25\n",
      "  (0, 6)\t7\n",
      "  (0, 7)\t1\n",
      "  (1, 3)\t100\n",
      "  (2, 3)\t144\n",
      "  (2, 6)\t1\n",
      "  (3, 3)\t32\n",
      "  (3, 4)\t2\n",
      "  (4, 3)\t11\n",
      "  (4, 6)\t12\n",
      "  (4, 7)\t20\n",
      "  (5, 1)\t5\n",
      "  (5, 3)\t1\n",
      "  (5, 5)\t1\n",
      "  (6, 2)\t1\n",
      "  (6, 3)\t10\n",
      "  (6, 6)\t23\n",
      "  (7, 6)\t10\n",
      "  (7, 7)\t4\n",
      "  (8, 0)\t5\n",
      "  (8, 3)\t1\n",
      "  (8, 6)\t53\n",
      "  (8, 7)\t4\n",
      "  (9, 0)\t1\n",
      "  (9, 2)\t1\n",
      "  (9, 3)\t4\n",
      "  (9, 6)\t13\n",
      "  (10, 1)\t5\n",
      "  (10, 3)\t6\n",
      "  (10, 5)\t13\n",
      "  (10, 6)\t1\n"
     ]
    }
   ],
   "source": [
    "iyer_labels_true = np.array(iyer_y)\n",
    "iyer_kmCluster_labels_pred = np.array(iyer_bestkmCluster).reshape((-1,))\n",
    "iyer_kmCluster_contingency = contingency_matrix(iyer_labels_true, iyer_kmCluster_labels_pred, sparse=True)\n",
    "print(iyer_kmCluster_contingency)"
   ]
  },
  {
   "cell_type": "markdown",
   "metadata": {},
   "source": [
    "Calculate external index: Adjusted Rand Score"
   ]
  },
  {
   "cell_type": "code",
   "execution_count": 29,
   "metadata": {},
   "outputs": [
    {
     "data": {
      "text/plain": [
       "0.2671347011479459"
      ]
     },
     "execution_count": 29,
     "metadata": {},
     "output_type": "execute_result"
    }
   ],
   "source": [
    "adjusted_rand_score(iyer_labels_true, iyer_kmCluster_labels_pred)"
   ]
  },
  {
   "cell_type": "markdown",
   "metadata": {},
   "source": [
    "View sklearn's K-means clustering results of Iyer dataset"
   ]
  },
  {
   "cell_type": "code",
   "execution_count": 30,
   "metadata": {},
   "outputs": [
    {
     "data": {
      "text/plain": [
       "array([6, 0, 0, 6, 0, 0, 0, 0, 0, 6, 0, 0, 0, 6, 6, 6, 6, 0, 6, 6, 6, 6,\n",
       "       6, 6, 6, 0, 6, 0, 6, 6, 6, 6, 6, 6, 0, 6, 0, 6, 0, 0, 6, 0, 6, 6,\n",
       "       6, 6, 0, 6, 6, 6, 6, 6, 0, 6, 6, 6, 6, 0, 0, 6, 6, 6, 0, 0, 0, 0,\n",
       "       6, 0, 0, 6, 6, 6, 0, 0, 0, 0, 0, 6, 6, 0, 6, 0, 0, 0, 6, 6, 0, 0,\n",
       "       0, 0, 0, 0, 6, 0, 0, 0, 6, 6, 6, 6, 0, 0, 0, 0, 6, 6, 6, 6, 0, 6,\n",
       "       6, 6, 6, 6, 6, 0, 0, 6, 6, 6, 6, 6, 6, 6, 6, 6, 6, 6, 6, 0, 6, 0,\n",
       "       6, 6, 0, 0, 0, 6, 0, 0, 0, 0, 6, 0, 0, 0, 0, 0, 6, 0, 0, 6, 0, 6,\n",
       "       6, 0, 0, 6, 6, 6, 6, 6, 6, 0, 6, 0, 6, 0, 6, 6, 6, 6, 0, 0, 0, 0,\n",
       "       6, 6, 6, 6, 6, 6, 6, 6, 6, 0, 6, 6, 0, 0, 6, 6, 6, 6, 6, 6, 6, 6,\n",
       "       6, 0, 6, 0, 6, 0, 6, 6, 6, 0, 6, 6, 6, 6, 6, 6, 6, 6, 6, 6, 0, 0,\n",
       "       0, 6, 6, 0, 0, 6, 0, 0, 0, 6, 6, 6, 6, 0, 0, 0, 0, 0, 0, 0, 0, 6,\n",
       "       6, 0, 6, 6, 6, 6, 0, 6, 0, 6, 6, 0, 6, 6, 3, 0, 6, 6, 0, 6, 2, 2,\n",
       "       6, 6, 0, 6, 6, 6, 0, 0, 0, 0, 0, 0, 0, 0, 0, 6, 6, 0, 0, 0, 0, 0,\n",
       "       6, 0, 0, 0, 0, 0, 9, 0, 0, 0, 3, 6, 0, 0, 3, 7, 3, 6, 0, 6, 0, 3,\n",
       "       3, 6, 7, 3, 3, 3, 0, 6, 6, 6, 0, 3, 3, 3, 3, 7, 7, 7, 7, 7, 7, 3,\n",
       "       7, 7, 7, 7, 7, 7, 3, 7, 7, 7, 7, 7, 7, 9, 2, 2, 9, 2, 9, 2, 9, 6,\n",
       "       6, 0, 6, 3, 3, 6, 0, 3, 3, 0, 5, 3, 0, 0, 3, 3, 3, 6, 0, 0, 3, 3,\n",
       "       3, 6, 6, 3, 3, 3, 3, 3, 6, 3, 3, 3, 3, 3, 3, 3, 3, 3, 3, 3, 3, 7,\n",
       "       3, 7, 1, 3, 3, 3, 3, 3, 3, 3, 3, 1, 3, 3, 3, 1, 3, 3, 3, 3, 6, 3,\n",
       "       3, 3, 3, 3, 3, 3, 1, 3, 1, 1, 3, 3, 3, 3, 3, 3, 1, 3, 3, 1, 3, 3,\n",
       "       1, 4, 3, 3, 1, 1, 1, 3, 3, 3, 3, 3, 3, 3, 3, 1, 1, 1, 3, 3, 3, 3,\n",
       "       3, 3, 1, 3, 3, 3, 1, 1, 4, 4, 4, 6, 3, 3, 3, 6, 0, 3, 3, 9, 0, 3,\n",
       "       3, 3, 3, 3, 3, 3, 8, 1, 9, 9, 0, 0, 0, 9, 6, 0, 9, 6, 9, 2, 9, 9,\n",
       "       9, 9, 2, 9, 9, 9, 9, 2, 2, 2, 2])"
      ]
     },
     "execution_count": 30,
     "metadata": {},
     "output_type": "execute_result"
    }
   ],
   "source": [
    "from sklearn.cluster import KMeans\n",
    "iyer_kmClf = KMeans(n_clusters=10)\n",
    "iyer_kmClf.fit(iyer_data_norm)\n",
    "iyer_kmClf.labels_"
   ]
  },
  {
   "cell_type": "markdown",
   "metadata": {},
   "source": [
    "View adjusted rand score for sklearn's K-means clustering results of Iyer dataset"
   ]
  },
  {
   "cell_type": "code",
   "execution_count": 31,
   "metadata": {},
   "outputs": [
    {
     "data": {
      "text/plain": [
       "0.22383873517794003"
      ]
     },
     "execution_count": 31,
     "metadata": {},
     "output_type": "execute_result"
    }
   ],
   "source": [
    "iyer_kmClf_labels = iyer_kmClf.labels_\n",
    "adjusted_rand_score(iyer_labels_true, iyer_kmClf_labels)"
   ]
  },
  {
   "cell_type": "markdown",
   "metadata": {},
   "source": [
    "Define the calculation of distance matrix"
   ]
  },
  {
   "cell_type": "code",
   "execution_count": 32,
   "metadata": {},
   "outputs": [],
   "source": [
    "def distanceMatrix(X):\n",
    "    X = np.array(X)\n",
    "    disMatrix = np.zeros((len(X), len(X)))\n",
    "    for i in range(len(X)):\n",
    "        for j in range(i+1, len(X)):\n",
    "            disMatrix[i][j] = dist(X[i], X[j])\n",
    "            disMatrix[j][i] = disMatrix[i][j]\n",
    "    return disMatrix"
   ]
  },
  {
   "cell_type": "code",
   "execution_count": 33,
   "metadata": {},
   "outputs": [],
   "source": [
    "cho_disM = distanceMatrix(cho_data_norm)\n",
    "iyer_disM = distanceMatrix(iyer_data_norm)"
   ]
  },
  {
   "cell_type": "markdown",
   "metadata": {},
   "source": [
    "Define the calculation of similarity matrix"
   ]
  },
  {
   "cell_type": "code",
   "execution_count": 34,
   "metadata": {},
   "outputs": [],
   "source": [
    "def knnMatrix(distanceMatrix, k, sigma=1.0):\n",
    "    N = len(distanceMatrix)\n",
    "    knnMatrix = np.zeros((N,N))\n",
    "\n",
    "    for i in range(N):\n",
    "        distAndIndex1 = zip(distanceMatrix[i], range(N))\n",
    "        distAndIndex2 = sorted(distAndIndex1, key=lambda x:x[0]) # Sort by first element\n",
    "\n",
    "        neighbours_id = [distAndIndex2[m][1] for m in range(k+1)] # xi's k nearest neighbours\n",
    "\n",
    "        for j in neighbours_id: # xj is xi's neighbour\n",
    "            knnMatrix[i][j] = np.exp(-distanceMatrix[i][j] / (2 * sigma**2))\n",
    "            knnMatrix[j][i] = knnMatrix[i][j]\n",
    "    \n",
    "    # print(distAndIndex2)\n",
    "    \n",
    "    return knnMatrix"
   ]
  },
  {
   "cell_type": "code",
   "execution_count": 35,
   "metadata": {},
   "outputs": [],
   "source": [
    "cho_knnM = knnMatrix(cho_disM, 50)\n",
    "iyer_knnM = knnMatrix(iyer_disM, 50)"
   ]
  },
  {
   "cell_type": "markdown",
   "metadata": {},
   "source": [
    "Define the calculation of Laplacian matrix"
   ]
  },
  {
   "cell_type": "code",
   "execution_count": 36,
   "metadata": {},
   "outputs": [],
   "source": [
    "def laplacianMatrix(knnMatrix):\n",
    "\n",
    "    # compute the Degree Matrix: D=sum(A)\n",
    "    degreeMatrix = np.sum(knnMatrix, axis=1)\n",
    "\n",
    "    # compute the Laplacian Matrix: L=D-A\n",
    "    laplacianMatrix = np.diag(degreeMatrix) - knnMatrix\n",
    "\n",
    "    # normalize: D^(-1/2) L D^(-1/2)\n",
    "    sqrtDegreeMatrix = np.diag(1.0 / (degreeMatrix ** (0.5)))\n",
    "    return np.dot(np.dot(sqrtDegreeMatrix, laplacianMatrix), sqrtDegreeMatrix)\n",
    "    # return laplacianMatrix"
   ]
  },
  {
   "cell_type": "code",
   "execution_count": 37,
   "metadata": {},
   "outputs": [],
   "source": [
    "cho_laM = laplacianMatrix(cho_knnM)\n",
    "iyer_laM = laplacianMatrix(iyer_knnM)"
   ]
  },
  {
   "cell_type": "markdown",
   "metadata": {},
   "source": [
    "Get eigenvalues and eigenvectors"
   ]
  },
  {
   "cell_type": "code",
   "execution_count": 38,
   "metadata": {},
   "outputs": [],
   "source": [
    "def getEigVec(laM,cluster_num):\n",
    "    eigValue,eigVector = np.linalg.eig(laM)\n",
    "    # print(eigValue)\n",
    "    # print(eigVector)\n",
    "    dictEigval = dict(zip(eigValue,range(len(eigValue))))\n",
    "    # print(dictEigval)\n",
    "    kEig = np.sort(eigValue)[0:cluster_num]\n",
    "    # print(kEig)\n",
    "    index = [dictEigval[k] for k in kEig]\n",
    "    # print(index)\n",
    "    return eigValue[index],eigVector[:,index]"
   ]
  },
  {
   "cell_type": "code",
   "execution_count": 39,
   "metadata": {},
   "outputs": [],
   "source": [
    "cho_eigValue,cho_eigVector = getEigVec(cho_laM, 5)\n",
    "iyer_eigValue,iyer_eigVector = getEigVec(iyer_laM, 10)\n",
    "# getEigVec(laM, 5)"
   ]
  },
  {
   "cell_type": "markdown",
   "metadata": {},
   "source": [
    "Perform 100 spectral clustering for Cho dataset, and select the one with the lowest SSE as the final result"
   ]
  },
  {
   "cell_type": "code",
   "execution_count": 40,
   "metadata": {
    "scrolled": true
   },
   "outputs": [
    {
     "name": "stdout",
     "output_type": "stream",
     "text": [
      "0.8175190944499277\n",
      "1.5298035242364207\n",
      "0.8169329593742042\n",
      "0.8169329593742034\n",
      "1.5375917014047507\n",
      "0.8175190944499279\n",
      "0.8169329593742037\n",
      "0.816932959374204\n",
      "0.8175190944499283\n",
      "0.816932959374204\n",
      "0.8171592486571642\n",
      "0.8171592486571636\n",
      "0.8169329593742038\n",
      "1.541710857293372\n",
      "0.817159248657164\n",
      "0.816932959374204\n",
      "0.8175190944499273\n"
     ]
    },
    {
     "name": "stderr",
     "output_type": "stream",
     "text": [
      "E:\\Anaconda3\\lib\\site-packages\\numpy\\core\\fromnumeric.py:3257: RuntimeWarning: Mean of empty slice.\n",
      "  out=out, **kwargs)\n",
      "E:\\Anaconda3\\lib\\site-packages\\numpy\\core\\_methods.py:154: RuntimeWarning: invalid value encountered in true_divide\n",
      "  ret, rcount, out=ret, casting='unsafe', subok=False)\n"
     ]
    },
    {
     "name": "stdout",
     "output_type": "stream",
     "text": [
      "1.6514326240712167\n",
      "0.8169329593742036\n",
      "1.5417108572933718\n",
      "0.817519094449928\n",
      "0.8175190944499283\n",
      "1.5485409293702275\n",
      "0.817519094449928\n",
      "1.644308803426477\n",
      "1.5576648230285421\n",
      "0.8169329593742038\n",
      "0.8171592486571635\n",
      "0.8169329593742037\n",
      "0.8169329593742035\n",
      "1.621786565428736\n",
      "1.538063163530972\n",
      "0.8169329593742038\n",
      "0.8169329593742037\n",
      "0.8169329593742037\n",
      "1.6513525601930579\n",
      "0.8169329593742037\n",
      "1.6577138648305942\n",
      "0.8175190944499279\n",
      "0.8169329593742038\n",
      "1.4666321511080838\n",
      "1.5491897382766617\n",
      "0.8175190944499274\n",
      "0.8175190944499282\n",
      "0.8169329593742034\n",
      "0.8175190944499279\n",
      "0.8169329593742033\n",
      "0.8171592486571642\n",
      "0.8169329593742038\n",
      "0.8169329593742038\n",
      "0.8175190944499282\n",
      "0.8169329593742041\n",
      "0.8171592486571634\n",
      "0.8171592486571635\n",
      "1.4666321511080846\n",
      "1.5483818094675006\n",
      "2.4265390899100576\n",
      "0.8169329593742035\n",
      "0.816932959374204\n",
      "0.8169329593742035\n",
      "1.6446686492192402\n",
      "0.8169329593742035\n",
      "0.8169329593742044\n",
      "0.8175190944499279\n",
      "0.8169329593742041\n",
      "0.8175190944499279\n",
      "0.8171592486571639\n",
      "0.817159248657164\n",
      "0.8171592486571635\n",
      "0.8169329593742038\n",
      "1.621786565428736\n",
      "0.8169329593742037\n",
      "0.8169329593742034\n",
      "0.8175190944499282\n",
      "0.8169329593742033\n",
      "0.8175190944499278\n",
      "0.8171592486571637\n",
      "0.8169329593742037\n",
      "0.8169329593742034\n",
      "0.8171592486571639\n",
      "1.531295054454185\n",
      "0.817159248657164\n",
      "0.8169329593742043\n",
      "0.8171592486571635\n",
      "0.8171592486571642\n",
      "0.8175190944499283\n",
      "1.5679274395048424\n",
      "0.816932959374204\n",
      "0.8175190944499279\n",
      "1.558934940038631\n",
      "0.8169329593742041\n",
      "0.8169329593742035\n",
      "0.8169329593742035\n",
      "1.5312034170015705\n",
      "1.54869140234774\n",
      "0.8169329593742042\n",
      "0.817519094449928\n",
      "1.644668649219242\n",
      "1.5512996041418337\n",
      "0.8169329593742041\n"
     ]
    }
   ],
   "source": [
    "cho_bestspCluster = []\n",
    "cho_bestspSSE = np.inf\n",
    "for i in range(100):\n",
    "    cho_spCluster, cho_spSSE = kMeans(cho_eigVector, 5)\n",
    "    print(cho_spSSE)\n",
    "    if cho_spSSE < cho_bestspSSE:\n",
    "        cho_bestspSSE = cho_spSSE\n",
    "        cho_bestspCluster = cho_spCluster"
   ]
  },
  {
   "cell_type": "markdown",
   "metadata": {},
   "source": [
    "View the final results of spectral clustering for Cho dataset"
   ]
  },
  {
   "cell_type": "code",
   "execution_count": 41,
   "metadata": {},
   "outputs": [
    {
     "name": "stdout",
     "output_type": "stream",
     "text": [
      "[[2 4 2 0 0 0 0 2 2 0 2 2 2 2 2 2 2 2 4 2 2 2 2 2 4 4 2 4 4 0 2 4 2 2 2 2\n",
      "  2 4 2 2 2 0 0 0 0 2 2 2 2 2 2 2 2 2 2 0 2 2 0 2 2 4 2 4 2 0 0 3 3 3 3 3\n",
      "  3 4 3 3 3 3 4 3 3 4 4 3 3 4 3 3 4 2 3 4 3 3 3 4 4 3 3 4 4 3 3 3 4 3 3 3\n",
      "  4 4 3 2 3 4 4 3 4 3 4 3 3 3 3 3 1 3 2 1 2 2 4 4 2 2 3 4 1 4 3 3 4 3 4 4\n",
      "  4 2 4 3 3 4 3 3 3 3 4 3 3 3 4 3 3 4 4 3 3 3 3 4 3 4 4 3 2 4 3 4 3 2 3 2\n",
      "  2 3 4 4 4 4 2 2 2 2 2 3 4 4 3 4 3 4 2 4 4 4 1 1 1 4 1 1 4 1 1 1 4 1 3 1\n",
      "  1 1 4 1 2 1 4 4 4 1 1 3 1 4 3 4 4 1 1 1 1 2 1 4 4 4 1 4 4 4 3 1 1 1 1 4\n",
      "  4 1 1 1 1 1 1 1 4 4 1 4 4 4 4 0 3 1 4 4 3 4 4 1 4 1 1 0 1 1 0 0 1 1 1 1\n",
      "  1 0 0 1 0 0 1 1 0 1 4 1 1 1 1 1 1 1 1 1 1 1 1 1 0 1 1 1 1 0 0 0 1 1 1 0\n",
      "  1 1 1 1 1 1 1 0 0 0 0 0 0 0 0 0 0 1 0 0 0 0 0 0 0 0 0 0 0 0 0 0 0 0 2 0\n",
      "  1 0 0 0 0 0 0 0 0 0 0 0 0 0 0 0 0 0 0 0 0 0 0 0 0 0]]\n",
      " \n",
      "0.8169329593742033\n"
     ]
    }
   ],
   "source": [
    "print(cho_bestspCluster)\n",
    "print(\" \")\n",
    "print(cho_bestspSSE)"
   ]
  },
  {
   "cell_type": "markdown",
   "metadata": {},
   "source": [
    "View Confusion Matrix"
   ]
  },
  {
   "cell_type": "code",
   "execution_count": 42,
   "metadata": {},
   "outputs": [
    {
     "name": "stdout",
     "output_type": "stream",
     "text": [
      "  (0, 0)\t14\n",
      "  (0, 2)\t43\n",
      "  (0, 4)\t10\n",
      "  (1, 1)\t3\n",
      "  (1, 2)\t18\n",
      "  (1, 3)\t66\n",
      "  (1, 4)\t48\n",
      "  (2, 0)\t1\n",
      "  (2, 1)\t37\n",
      "  (2, 2)\t2\n",
      "  (2, 3)\t6\n",
      "  (2, 4)\t29\n",
      "  (3, 0)\t13\n",
      "  (3, 1)\t40\n",
      "  (3, 4)\t1\n",
      "  (4, 0)\t52\n",
      "  (4, 1)\t2\n",
      "  (4, 2)\t1\n"
     ]
    }
   ],
   "source": [
    "cho_labels_true = np.array(cho_y)\n",
    "cho_spCluster_labels_pred = np.array(cho_bestspCluster).reshape((-1,))\n",
    "cho_spCluster_contingency = contingency_matrix(cho_labels_true, cho_spCluster_labels_pred, sparse=True)\n",
    "print(cho_spCluster_contingency)"
   ]
  },
  {
   "cell_type": "markdown",
   "metadata": {},
   "source": [
    "Calculate external index: Adjusted Rand Score"
   ]
  },
  {
   "cell_type": "code",
   "execution_count": 43,
   "metadata": {},
   "outputs": [
    {
     "data": {
      "text/plain": [
       "0.347206481819754"
      ]
     },
     "execution_count": 43,
     "metadata": {},
     "output_type": "execute_result"
    }
   ],
   "source": [
    "adjusted_rand_score(cho_labels_true, cho_spCluster_labels_pred)"
   ]
  },
  {
   "cell_type": "markdown",
   "metadata": {},
   "source": [
    "View sklearn's spectral clustering results of Cho dataset"
   ]
  },
  {
   "cell_type": "code",
   "execution_count": 44,
   "metadata": {},
   "outputs": [
    {
     "data": {
      "text/plain": [
       "array([1, 2, 1, 0, 0, 0, 0, 1, 1, 0, 1, 1, 1, 1, 1, 1, 1, 1, 2, 1, 1, 1,\n",
       "       1, 1, 3, 2, 1, 2, 3, 0, 1, 2, 1, 1, 1, 1, 1, 2, 1, 1, 1, 0, 0, 0,\n",
       "       0, 1, 1, 1, 1, 1, 1, 1, 1, 1, 1, 0, 1, 1, 0, 1, 1, 2, 1, 1, 1, 0,\n",
       "       3, 2, 2, 2, 2, 2, 2, 2, 2, 2, 2, 2, 2, 2, 2, 1, 2, 2, 2, 2, 2, 2,\n",
       "       2, 1, 2, 2, 2, 2, 2, 3, 2, 2, 2, 3, 2, 2, 2, 2, 2, 2, 2, 2, 2, 3,\n",
       "       2, 1, 2, 2, 2, 2, 2, 2, 2, 2, 2, 2, 2, 2, 3, 2, 1, 3, 1, 1, 2, 2,\n",
       "       1, 1, 2, 2, 3, 3, 2, 2, 2, 2, 2, 2, 2, 1, 2, 2, 2, 2, 2, 2, 2, 2,\n",
       "       2, 2, 2, 2, 2, 2, 2, 2, 2, 2, 2, 2, 2, 3, 2, 2, 2, 2, 1, 2, 2, 2,\n",
       "       2, 1, 2, 1, 1, 2, 2, 1, 2, 2, 1, 1, 1, 1, 1, 2, 2, 2, 2, 2, 2, 2,\n",
       "       1, 2, 2, 2, 3, 3, 3, 2, 3, 3, 3, 3, 3, 3, 2, 3, 2, 3, 3, 3, 1, 3,\n",
       "       1, 3, 2, 2, 2, 3, 3, 2, 3, 3, 2, 3, 3, 3, 3, 3, 3, 1, 3, 3, 3, 3,\n",
       "       3, 3, 2, 2, 2, 3, 3, 3, 3, 2, 2, 3, 3, 3, 3, 3, 3, 3, 3, 3, 3, 2,\n",
       "       2, 3, 2, 3, 2, 3, 3, 2, 2, 2, 3, 3, 2, 3, 3, 0, 3, 3, 0, 0, 3, 3,\n",
       "       3, 3, 3, 3, 0, 3, 0, 0, 3, 3, 3, 3, 3, 3, 3, 3, 3, 3, 3, 3, 3, 3,\n",
       "       3, 3, 3, 3, 0, 3, 3, 3, 3, 3, 0, 0, 3, 3, 3, 0, 3, 3, 3, 3, 3, 3,\n",
       "       3, 3, 0, 0, 0, 0, 0, 0, 0, 0, 0, 3, 0, 0, 0, 0, 0, 0, 0, 0, 0, 0,\n",
       "       0, 0, 0, 0, 0, 0, 1, 0, 3, 0, 0, 0, 0, 0, 0, 0, 0, 0, 0, 0, 0, 0,\n",
       "       0, 0, 0, 0, 0, 0, 0, 0, 0, 4, 0, 0])"
      ]
     },
     "execution_count": 44,
     "metadata": {},
     "output_type": "execute_result"
    }
   ],
   "source": [
    "from sklearn.cluster import SpectralClustering\n",
    "cho_spClf = SpectralClustering(n_clusters=5)\n",
    "cho_spClf.fit(cho_data_norm)\n",
    "cho_spClf.labels_"
   ]
  },
  {
   "cell_type": "markdown",
   "metadata": {},
   "source": [
    "View adjusted rand score for sklearn's spectral clustering results of Cho dataset"
   ]
  },
  {
   "cell_type": "code",
   "execution_count": 45,
   "metadata": {},
   "outputs": [
    {
     "data": {
      "text/plain": [
       "0.44129189070888103"
      ]
     },
     "execution_count": 45,
     "metadata": {},
     "output_type": "execute_result"
    }
   ],
   "source": [
    "cho_spClf_labels = cho_spClf.labels_\n",
    "adjusted_rand_score(cho_labels_true, cho_spClf_labels)"
   ]
  },
  {
   "cell_type": "markdown",
   "metadata": {},
   "source": [
    "Perform 100 spectral clustering for Iyer dataset, and select the one with the lowest SSE as the final result"
   ]
  },
  {
   "cell_type": "code",
   "execution_count": 46,
   "metadata": {
    "scrolled": true
   },
   "outputs": [
    {
     "name": "stdout",
     "output_type": "stream",
     "text": [
      "2.7594249643615356\n"
     ]
    },
    {
     "name": "stderr",
     "output_type": "stream",
     "text": [
      "E:\\Anaconda3\\lib\\site-packages\\numpy\\core\\fromnumeric.py:3257: RuntimeWarning: Mean of empty slice.\n",
      "  out=out, **kwargs)\n",
      "E:\\Anaconda3\\lib\\site-packages\\numpy\\core\\_methods.py:154: RuntimeWarning: invalid value encountered in true_divide\n",
      "  ret, rcount, out=ret, casting='unsafe', subok=False)\n"
     ]
    },
    {
     "name": "stdout",
     "output_type": "stream",
     "text": [
      "3.164378692825339\n",
      "3.7236879528235716\n",
      "3.214745615537465\n",
      "3.1640211046367\n",
      "3.772946258992515\n",
      "3.1978385752627423\n",
      "3.881844457644699\n",
      "3.3006531275111892\n",
      "2.760845558748697\n",
      "2.7597414329135943\n",
      "2.7614071227202057\n",
      "3.0106183045284194\n",
      "2.7607490871358316\n",
      "2.759128149785421\n",
      "2.7579104629803615\n",
      "3.069386651008042\n",
      "3.344111448177349\n",
      "3.0506935709620335\n",
      "3.555148852113517\n",
      "3.2876022888010343\n",
      "3.4618901914487603\n",
      "3.4135272157931085\n",
      "3.514845082434839\n",
      "3.1084991842371066\n",
      "3.3613573980943783\n",
      "2.7597414329135943\n",
      "3.516009695582969\n",
      "3.245431813693014\n",
      "3.72356185988857\n",
      "3.4306324225279172\n",
      "3.7323068019062857\n",
      "3.194481189436504\n",
      "3.322745465823036\n",
      "3.419883227642005\n",
      "3.1643786928253386\n",
      "2.7596897137569316\n",
      "3.138970533276104\n",
      "3.3644021559376016\n",
      "3.0528551892508338\n",
      "3.5332096185114996\n",
      "2.996770092314188\n",
      "3.40595144556571\n",
      "3.230498934325742\n",
      "2.761096202466826\n",
      "3.015295083253895\n",
      "2.7581084094391843\n",
      "2.929406322822905\n",
      "3.1628377651164046\n",
      "3.206694634196074\n",
      "3.6516030200346568\n",
      "2.9302751482334264\n",
      "3.24168577591191\n",
      "2.7693256904110366\n",
      "2.7648863568617226\n",
      "3.7592734438024014\n",
      "3.376232884848191\n",
      "2.7581084094391857\n",
      "2.7636282143656716\n",
      "3.2792942416631794\n",
      "3.2338606554930687\n",
      "2.9258832678884303\n",
      "3.4313924405691494\n",
      "3.7090649543973564\n",
      "2.7693609594412747\n",
      "3.880506987837099\n",
      "3.27890689009398\n",
      "3.2712430246929523\n",
      "3.739372036930127\n",
      "3.1372352958362075\n",
      "3.789117739089992\n",
      "3.035212432158222\n",
      "3.311801615250644\n",
      "2.9302751482334277\n",
      "2.7579104629803584\n",
      "3.819855607768333\n",
      "2.759743374215707\n",
      "3.1628377651164037\n",
      "3.973152653528716\n",
      "3.1619358313735484\n",
      "3.291428278123505\n",
      "3.375537626298756\n",
      "2.7603065758045164\n",
      "2.951002172777914\n",
      "3.463780811513625\n",
      "2.7579104629803606\n",
      "2.7631474569636127\n",
      "3.32932221107097\n",
      "3.1703964386926433\n",
      "3.162457315510963\n",
      "2.767766306356737\n",
      "2.759491767298106\n",
      "3.276857422113002\n",
      "2.7608455587486977\n",
      "3.165096420581223\n",
      "3.824264240536157\n",
      "2.9519098062810287\n",
      "2.7591281497854236\n",
      "2.7581084094391843\n",
      "3.213193682883619\n"
     ]
    }
   ],
   "source": [
    "iyer_bestspCluster = []\n",
    "iyer_bestspSSE = np.inf\n",
    "for i in range(100):\n",
    "    iyer_spCluster, iyer_spSSE = kMeans(iyer_eigVector, 10)\n",
    "    print(iyer_spSSE)\n",
    "    if iyer_spSSE < iyer_bestspSSE:\n",
    "        iyer_bestspSSE = iyer_spSSE\n",
    "        iyer_bestspCluster = iyer_spCluster"
   ]
  },
  {
   "cell_type": "markdown",
   "metadata": {},
   "source": [
    "View the final results of spectral clustering for Iyer dataset"
   ]
  },
  {
   "cell_type": "code",
   "execution_count": 47,
   "metadata": {},
   "outputs": [
    {
     "name": "stdout",
     "output_type": "stream",
     "text": [
      "[[5 7 2 6 2 2 2 2 2 6 2 2 0 5 5 6 6 2 6 5 5 6 6 6 6 7 6 7 5 0 8 5 8 8 7 6\n",
      "  7 6 7 6 5 0 5 6 5 5 2 0 5 0 5 6 2 6 6 0 6 6 6 6 6 5 2 0 0 6 6 6 6 6 6 6\n",
      "  6 6 0 2 7 6 6 7 6 7 2 2 6 6 6 2 2 2 2 2 0 2 2 7 6 0 5 6 2 7 7 7 8 8 8 8\n",
      "  8 8 8 8 8 5 5 7 7 8 8 8 8 8 8 8 5 5 8 8 6 6 6 7 0 0 7 7 7 0 7 7 7 2 6 6\n",
      "  0 7 2 0 5 7 0 8 7 8 5 7 7 5 6 6 8 8 8 7 6 7 5 7 6 5 5 8 7 7 7 7 8 8 5 5\n",
      "  5 5 5 5 5 8 8 8 8 7 8 5 5 5 5 8 0 0 5 0 0 7 8 7 0 8 8 7 8 8 5 5 5 8 5 5\n",
      "  5 8 7 8 0 0 5 7 7 5 2 7 7 8 8 5 5 7 7 7 7 0 0 0 0 5 5 7 0 0 5 5 7 5 7 5\n",
      "  0 0 5 8 8 8 8 8 8 8 4 4 0 0 0 0 5 0 2 2 2 2 2 2 2 2 2 6 0 2 6 6 2 2 6 2\n",
      "  2 6 6 0 2 2 2 2 9 6 7 6 3 3 3 8 7 8 7 3 3 8 3 3 3 9 7 8 0 8 7 3 3 3 3 3\n",
      "  3 3 3 3 3 3 3 3 3 3 3 3 3 3 3 3 3 3 3 4 4 4 0 4 4 4 4 0 4 4 4 7 9 9 9 4\n",
      "  4 9 1 4 4 4 9 9 9 9 4 4 9 9 9 9 9 9 1 9 9 9 9 9 9 9 1 4 4 0 9 3 1 3 3 3\n",
      "  3 3 1 3 3 3 3 3 1 3 9 3 9 9 1 1 9 1 9 9 5 9 9 3 9 3 3 9 1 9 1 1 9 9 9 9\n",
      "  9 9 1 1 9 1 1 1 1 1 9 3 1 1 1 9 3 1 9 9 9 9 9 1 1 1 9 9 9 9 9 1 1 9 9 1\n",
      "  1 1 1 1 1 9 9 4 4 0 9 4 1 4 4 4 9 9 4 4 4 4 1 1 4 4 4 4 2 4 0 0 4 0 4 4\n",
      "  4 4 4 4 4 4 4 4 4 4 4 4 4]]\n",
      " \n",
      "2.7579104629803584\n"
     ]
    }
   ],
   "source": [
    "print(iyer_bestspCluster)\n",
    "print(\" \")\n",
    "print(iyer_bestspSSE)"
   ]
  },
  {
   "cell_type": "markdown",
   "metadata": {},
   "source": [
    "View Confusion Matrix"
   ]
  },
  {
   "cell_type": "code",
   "execution_count": 48,
   "metadata": {},
   "outputs": [
    {
     "name": "stdout",
     "output_type": "stream",
     "text": [
      "  (0, 0)\t4\n",
      "  (0, 1)\t1\n",
      "  (0, 3)\t2\n",
      "  (0, 4)\t4\n",
      "  (0, 5)\t6\n",
      "  (0, 6)\t2\n",
      "  (0, 7)\t3\n",
      "  (0, 8)\t7\n",
      "  (0, 9)\t4\n",
      "  (1, 0)\t11\n",
      "  (1, 2)\t23\n",
      "  (1, 5)\t14\n",
      "  (1, 6)\t39\n",
      "  (1, 7)\t10\n",
      "  (1, 8)\t3\n",
      "  (2, 0)\t19\n",
      "  (2, 2)\t3\n",
      "  (2, 5)\t34\n",
      "  (2, 6)\t9\n",
      "  (2, 7)\t38\n",
      "  (2, 8)\t42\n",
      "  (3, 0)\t7\n",
      "  (3, 2)\t18\n",
      "  (3, 4)\t2\n",
      "  (3, 5)\t1\n",
      "  :\t:\n",
      "  (4, 0)\t1\n",
      "  (4, 3)\t32\n",
      "  (4, 7)\t4\n",
      "  (4, 8)\t5\n",
      "  (4, 9)\t1\n",
      "  (5, 0)\t1\n",
      "  (5, 4)\t6\n",
      "  (6, 1)\t3\n",
      "  (6, 4)\t9\n",
      "  (6, 7)\t1\n",
      "  (6, 9)\t21\n",
      "  (7, 1)\t2\n",
      "  (7, 3)\t11\n",
      "  (7, 9)\t1\n",
      "  (8, 1)\t28\n",
      "  (8, 3)\t5\n",
      "  (8, 5)\t1\n",
      "  (8, 9)\t29\n",
      "  (9, 0)\t1\n",
      "  (9, 1)\t3\n",
      "  (9, 4)\t10\n",
      "  (9, 9)\t5\n",
      "  (10, 0)\t3\n",
      "  (10, 2)\t1\n",
      "  (10, 4)\t21\n"
     ]
    }
   ],
   "source": [
    "iyer_labels_true = np.array(iyer_y)\n",
    "iyer_spCluster_labels_pred = np.array(iyer_bestspCluster).reshape((-1,))\n",
    "iyer_spCluster_contingency = contingency_matrix(iyer_labels_true, iyer_spCluster_labels_pred, sparse=True)\n",
    "print(iyer_spCluster_contingency)"
   ]
  },
  {
   "cell_type": "markdown",
   "metadata": {},
   "source": [
    "Calculate external index: Adjusted Rand Score"
   ]
  },
  {
   "cell_type": "code",
   "execution_count": 49,
   "metadata": {},
   "outputs": [
    {
     "data": {
      "text/plain": [
       "0.243739928799015"
      ]
     },
     "execution_count": 49,
     "metadata": {},
     "output_type": "execute_result"
    }
   ],
   "source": [
    "adjusted_rand_score(iyer_labels_true, iyer_spCluster_labels_pred)"
   ]
  },
  {
   "cell_type": "markdown",
   "metadata": {},
   "source": [
    "View sklearn's spectral clustering results of Iyer dataset"
   ]
  },
  {
   "cell_type": "code",
   "execution_count": 50,
   "metadata": {},
   "outputs": [
    {
     "data": {
      "text/plain": [
       "array([0, 0, 0, 0, 0, 0, 0, 0, 0, 0, 0, 0, 0, 0, 0, 0, 0, 0, 0, 0, 0, 0,\n",
       "       0, 0, 0, 0, 0, 0, 0, 0, 0, 0, 0, 0, 0, 0, 0, 0, 0, 0, 0, 0, 0, 0,\n",
       "       0, 0, 0, 0, 0, 0, 0, 0, 0, 0, 0, 0, 0, 0, 0, 0, 0, 0, 0, 0, 0, 0,\n",
       "       0, 0, 0, 0, 0, 0, 0, 0, 0, 0, 0, 0, 0, 0, 0, 0, 0, 0, 0, 0, 0, 0,\n",
       "       0, 0, 0, 0, 0, 0, 0, 0, 0, 0, 0, 0, 0, 0, 0, 0, 0, 0, 0, 0, 0, 0,\n",
       "       0, 0, 0, 0, 0, 0, 0, 0, 0, 0, 0, 0, 0, 0, 0, 0, 0, 0, 0, 0, 0, 0,\n",
       "       0, 0, 0, 0, 0, 0, 0, 0, 0, 0, 0, 0, 0, 0, 0, 0, 0, 0, 0, 0, 0, 0,\n",
       "       0, 0, 0, 0, 0, 0, 0, 0, 0, 0, 0, 0, 0, 0, 0, 0, 0, 0, 0, 0, 0, 0,\n",
       "       0, 0, 0, 0, 0, 0, 0, 0, 0, 0, 0, 0, 0, 0, 0, 0, 0, 0, 0, 0, 0, 0,\n",
       "       0, 0, 0, 0, 0, 0, 0, 0, 0, 0, 0, 0, 0, 0, 0, 0, 0, 0, 0, 0, 0, 0,\n",
       "       0, 0, 0, 0, 0, 0, 0, 0, 0, 0, 0, 0, 0, 0, 0, 0, 0, 0, 0, 0, 0, 0,\n",
       "       0, 0, 0, 0, 0, 0, 0, 0, 0, 0, 0, 0, 0, 0, 0, 0, 0, 0, 0, 0, 4, 9,\n",
       "       0, 0, 0, 0, 0, 0, 0, 0, 0, 0, 0, 0, 0, 0, 0, 0, 0, 0, 0, 0, 0, 0,\n",
       "       0, 0, 0, 0, 0, 0, 5, 0, 0, 0, 0, 0, 0, 0, 0, 0, 0, 0, 0, 0, 0, 0,\n",
       "       0, 0, 0, 0, 0, 0, 0, 0, 0, 0, 0, 0, 0, 0, 0, 8, 8, 8, 8, 8, 8, 0,\n",
       "       0, 0, 8, 8, 8, 0, 0, 8, 8, 0, 0, 0, 0, 5, 4, 4, 5, 9, 5, 4, 5, 0,\n",
       "       0, 0, 0, 0, 5, 5, 5, 5, 5, 5, 1, 5, 5, 0, 5, 5, 5, 5, 5, 5, 5, 5,\n",
       "       5, 5, 5, 5, 5, 5, 5, 5, 5, 5, 5, 5, 5, 5, 5, 5, 0, 5, 5, 0, 0, 8,\n",
       "       0, 8, 5, 0, 0, 0, 0, 0, 5, 5, 0, 5, 5, 5, 5, 5, 5, 5, 5, 5, 0, 0,\n",
       "       5, 5, 5, 0, 0, 5, 5, 5, 5, 5, 5, 5, 5, 5, 5, 5, 5, 5, 5, 5, 5, 5,\n",
       "       5, 5, 0, 5, 5, 5, 5, 5, 5, 5, 0, 0, 5, 5, 5, 5, 5, 5, 5, 5, 5, 5,\n",
       "       5, 5, 5, 5, 5, 5, 5, 5, 6, 6, 2, 5, 5, 5, 5, 5, 5, 5, 5, 5, 5, 5,\n",
       "       0, 5, 5, 5, 5, 5, 3, 7, 0, 7, 5, 0, 5, 5, 0, 0, 7, 0, 7, 7, 5, 5,\n",
       "       5, 5, 7, 7, 5, 5, 5, 4, 4, 4, 4])"
      ]
     },
     "execution_count": 50,
     "metadata": {},
     "output_type": "execute_result"
    }
   ],
   "source": [
    "from sklearn.cluster import SpectralClustering\n",
    "iyer_spClf = SpectralClustering(n_clusters=10)\n",
    "iyer_spClf.fit(iyer_data_norm)\n",
    "iyer_spClf.labels_"
   ]
  },
  {
   "cell_type": "markdown",
   "metadata": {},
   "source": [
    "View adjusted rand score for sklearn's spectral clustering results of Iyer dataset"
   ]
  },
  {
   "cell_type": "code",
   "execution_count": 51,
   "metadata": {},
   "outputs": [
    {
     "data": {
      "text/plain": [
       "0.22409326018025702"
      ]
     },
     "execution_count": 51,
     "metadata": {},
     "output_type": "execute_result"
    }
   ],
   "source": [
    "iyer_spClf_labels = iyer_spClf.labels_\n",
    "adjusted_rand_score(iyer_labels_true, iyer_spClf_labels)"
   ]
  }
 ],
 "metadata": {
  "kernelspec": {
   "display_name": "Python 3",
   "language": "python",
   "name": "python3"
  },
  "language_info": {
   "codemirror_mode": {
    "name": "ipython",
    "version": 3
   },
   "file_extension": ".py",
   "mimetype": "text/x-python",
   "name": "python",
   "nbconvert_exporter": "python",
   "pygments_lexer": "ipython3",
   "version": "3.6.5"
  }
 },
 "nbformat": 4,
 "nbformat_minor": 2
}
